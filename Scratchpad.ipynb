{
  "nbformat": 4,
  "nbformat_minor": 0,
  "metadata": {
    "colab": {
      "provenance": []
    },
    "kernelspec": {
      "name": "python3",
      "display_name": "Python 3"
    },
    "language_info": {
      "name": "python"
    }
  },
  "cells": [
    {
      "cell_type": "code",
      "execution_count": 1,
      "metadata": {
        "id": "suR1yK_MgUwt"
      },
      "outputs": [],
      "source": [
        "import numpy as np"
      ]
    },
    {
      "cell_type": "code",
      "source": [
        "A = [[1,2,3],\n",
        "     [1,3,1],\n",
        "     [1,4,0]]\n",
        "A = np.array(A)\n",
        "print(A)"
      ],
      "metadata": {
        "colab": {
          "base_uri": "https://localhost:8080/"
        },
        "id": "cskPPwCbhJM0",
        "outputId": "1f03142a-a1a7-4c99-d84c-f8b9e636588a"
      },
      "execution_count": 30,
      "outputs": [
        {
          "output_type": "stream",
          "name": "stdout",
          "text": [
            "[[1 2 3]\n",
            " [1 3 1]\n",
            " [1 4 0]]\n"
          ]
        }
      ]
    },
    {
      "cell_type": "code",
      "source": [
        "I = np.identity(3)\n",
        "T = [[1,0,0],\n",
        "     [-1,1,0],\n",
        "     [-1,0,1]]\n",
        "print(np.dot(T,A))"
      ],
      "metadata": {
        "colab": {
          "base_uri": "https://localhost:8080/"
        },
        "id": "FJ30p58zgbjM",
        "outputId": "3064b044-a3cf-4d32-ccbb-a8ecf6ea2da0"
      },
      "execution_count": 31,
      "outputs": [
        {
          "output_type": "stream",
          "name": "stdout",
          "text": [
            "[[ 1  2  3]\n",
            " [ 0  1 -2]\n",
            " [ 0  2 -3]]\n"
          ]
        }
      ]
    }
  ]
}