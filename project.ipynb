{
  "cells": [
    {
      "cell_type": "markdown",
      "metadata": {
        "id": "view-in-github",
        "colab_type": "text"
      },
      "source": [
        "<a href=\"https://colab.research.google.com/github/ForestPearson/CS410-510-NLP-project/blob/main/project.ipynb\" target=\"_parent\"><img src=\"https://colab.research.google.com/assets/colab-badge.svg\" alt=\"Open In Colab\"/></a>"
      ]
    },
    {
      "cell_type": "code",
      "execution_count": null,
      "metadata": {
        "id": "suR1yK_MgUwt"
      },
      "outputs": [],
      "source": [
        "import numpy as np\n",
        "import tensorflow as tf\n",
        "import os\n",
        "from tensorflow.keras.layers import LSTM\n",
        "from tensorflow.keras.layers import StringLookup\n",
        "from tensorflow.keras.layers import Dense\n",
        "from tensorflow.keras.layers import GRU\n",
        "from tensorflow.keras.layers import Embedding\n",
        "from tensorflow.keras.callbacks import ReduceLROnPlateau\n",
        "from tensorflow.keras.models import Model\n",
        "\n",
        "BATCH_SIZE = 64\n",
        "BUFFER_SIZE = 10000\n",
        "EPOCHS = 75\n",
        "DIM = 256\n",
        "RNN = 1024\n",
        "\n",
        "path = tf.keras.utils.get_file('combined.txt', 'https://raw.githubusercontent.com/ForestPearson/CS410-510-NLP-project/main/data/combined.txt')"
      ]
    },
    {
      "cell_type": "code",
      "execution_count": null,
      "metadata": {
        "colab": {
          "base_uri": "https://localhost:8080/"
        },
        "id": "MO_gdgLYhjp0",
        "outputId": "2fba8c84-f1d6-4c51-f7d8-653b9c3ae5f3"
      },
      "outputs": [
        {
          "name": "stdout",
          "output_type": "stream",
          "text": [
            "Length: 389861\n",
            "ACT I\n",
            "\n",
            "SCENE I. Rousillon. The COUNT's palace.\n",
            "\n",
            "Enter BERTRAM, the COUNTESS of Rousillon, HELENA, and LAFEU, all in black\n",
            "COUNTESS\n",
            "In delivering my son from me, I bury a second husband.\n",
            "BERTRAM\n",
            "And I in going, madam, weep o'er my father's death\n",
            "anew: but I must attend his majesty's command, to\n",
            "whom I am now in ward, evermore in subjection.\n",
            "LAFEU\n",
            "You shall find of the king a husband, madam; you,\n",
            "sir, a father: he that so generally is at all times\n",
            "good must of necessity hold his virtue to you; who\n"
          ]
        }
      ],
      "source": [
        "text = open(path, 'rb').read().decode(encoding='utf-8')\n",
        "print(\"Length:\", len(text))\n",
        "print(text[:500])\n",
        "\n",
        "vocab = sorted(set(text))"
      ]
    },
    {
      "cell_type": "code",
      "execution_count": null,
      "metadata": {
        "id": "50_P7GzQjlT1"
      },
      "outputs": [],
      "source": [
        "example_texts = ['abcdefg', 'xyz']\n",
        "\n",
        "chars = tf.strings.unicode_split(example_texts, input_encoding='UTF-8')\n",
        "\n",
        "ids_from_chars = StringLookup(vocabulary=list(vocab), mask_token=None)\n",
        "chars_from_ids = StringLookup(vocabulary=ids_from_chars.get_vocabulary(), invert=True, mask_token=None)\n",
        "vocabSize = len(ids_from_chars.get_vocabulary())\n"
      ]
    },
    {
      "cell_type": "code",
      "execution_count": null,
      "metadata": {
        "id": "orOMI3FImLsQ"
      },
      "outputs": [],
      "source": [
        "seq_length = 100\n",
        "all_ids = ids_from_chars(tf.strings.unicode_split(text, 'UTF-8'))\n",
        "#Convert to character indices\n",
        "ids_dataset = tf.data.Dataset.from_tensor_slices(all_ids)\n",
        "#Form sequences made up of 100 characters\n",
        "sequences = ids_dataset.batch(seq_length+1, drop_remainder=True)"
      ]
    },
    {
      "cell_type": "code",
      "execution_count": null,
      "metadata": {
        "colab": {
          "base_uri": "https://localhost:8080/"
        },
        "id": "IRXDSYnnoCJN",
        "outputId": "cee18c10-0cb3-448f-8843-123aa48fae00"
      },
      "outputs": [
        {
          "data": {
            "text/plain": [
              "<PrefetchDataset element_spec=(TensorSpec(shape=(64, 100), dtype=tf.int64, name=None), TensorSpec(shape=(64, 100), dtype=tf.int64, name=None))>"
            ]
          },
          "execution_count": 63,
          "metadata": {},
          "output_type": "execute_result"
        }
      ],
      "source": [
        "#Training data creation and target creation using sequences\n",
        "def split_input_target(sequence):\n",
        "    input_text = sequence[:-1]\n",
        "    target_text = sequence[1:]\n",
        "    return input_text, target_text\n",
        "\n",
        "dataset = sequences.map(split_input_target)\n",
        "dataset = (dataset.shuffle(BUFFER_SIZE).batch(BATCH_SIZE, drop_remainder=True).prefetch(tf.data.experimental.AUTOTUNE))\n",
        "\n",
        "dataset"
      ]
    },
    {
      "cell_type": "code",
      "execution_count": null,
      "metadata": {
        "id": "tkcjqI8Opmyx"
      },
      "outputs": [],
      "source": [
        "class MyModel(Model):\n",
        "  def __init__(self, vocab_size, embedding_dim, rnn_units):\n",
        "    super().__init__(self)\n",
        "    #Map each character ID\n",
        "    self.embedding = Embedding(vocab_size, embedding_dim)\n",
        "    #RNN layer\n",
        "    self.gru = GRU(rnn_units,return_sequences=True,return_state=True)\n",
        "    #Output layer\n",
        "    self.dense = Dense(vocab_size)\n",
        "\n",
        "  def call(self, inputs, states=None, return_state=False, training=False):\n",
        "    x = inputs\n",
        "    x = self.embedding(x, training=training)\n",
        "    if states is None:\n",
        "      states = self.gru.get_initial_state(x)\n",
        "    x, states = self.gru(x, initial_state=states, training=training)\n",
        "    x = self.dense(x, training=training)\n",
        "\n",
        "    if return_state:\n",
        "      return x, states\n",
        "    else:\n",
        "      return x"
      ]
    },
    {
      "cell_type": "code",
      "execution_count": null,
      "metadata": {
        "id": "qGvpyp38phUW"
      },
      "outputs": [],
      "source": [
        "model = MyModel(\n",
        "    vocab_size=vocabSize,\n",
        "    embedding_dim=DIM,\n",
        "    rnn_units=RNN)"
      ]
    },
    {
      "cell_type": "code",
      "execution_count": null,
      "metadata": {
        "id": "YNGsrLBFqsng"
      },
      "outputs": [],
      "source": [
        "model.compile(optimizer='adam', loss=tf.losses.SparseCategoricalCrossentropy(from_logits=True))\n",
        "# Directory where the checkpoints will be saved\n",
        "dir = './data/epochs'\n",
        "#File names\n",
        "fileName = os.path.join(dir, \"ckpt_{epoch}\")\n",
        "reduce_alpha = ReduceLROnPlateau(monitor ='loss', factor = 0.2,patience = 1, min_lr = 0.001)\n",
        "results = tf.keras.callbacks.ModelCheckpoint(filepath=fileName,save_weights_only=True)"
      ]
    },
    {
      "cell_type": "code",
      "execution_count": null,
      "metadata": {
        "colab": {
          "base_uri": "https://localhost:8080/"
        },
        "id": "jMvVffRCrB_5",
        "outputId": "9a4fcfd7-ccfc-4fc1-8159-4f3eaa6ca66b"
      },
      "outputs": [
        {
          "name": "stdout",
          "output_type": "stream",
          "text": [
            "Epoch 1/75\n",
            "60/60 [==============================] - 3s 23ms/step - loss: 3.3431\n",
            "Epoch 2/75\n",
            "60/60 [==============================] - 2s 22ms/step - loss: 2.4480\n",
            "Epoch 3/75\n",
            "60/60 [==============================] - 2s 23ms/step - loss: 2.2446\n",
            "Epoch 4/75\n",
            "60/60 [==============================] - 2s 24ms/step - loss: 2.0795\n",
            "Epoch 5/75\n",
            "60/60 [==============================] - 2s 24ms/step - loss: 1.9260\n",
            "Epoch 6/75\n",
            "60/60 [==============================] - 2s 22ms/step - loss: 1.8042\n",
            "Epoch 7/75\n",
            "60/60 [==============================] - 2s 24ms/step - loss: 1.7048\n",
            "Epoch 8/75\n",
            "60/60 [==============================] - 2s 24ms/step - loss: 1.6250\n",
            "Epoch 9/75\n",
            "60/60 [==============================] - 2s 24ms/step - loss: 1.5569\n",
            "Epoch 10/75\n",
            "60/60 [==============================] - 2s 23ms/step - loss: 1.4984\n",
            "Epoch 11/75\n",
            "60/60 [==============================] - 2s 23ms/step - loss: 1.4456\n",
            "Epoch 12/75\n",
            "60/60 [==============================] - 2s 22ms/step - loss: 1.3952\n",
            "Epoch 13/75\n",
            "60/60 [==============================] - 2s 22ms/step - loss: 1.3495\n",
            "Epoch 14/75\n",
            "60/60 [==============================] - 2s 27ms/step - loss: 1.3017\n",
            "Epoch 15/75\n",
            "60/60 [==============================] - 2s 23ms/step - loss: 1.2549\n",
            "Epoch 16/75\n",
            "60/60 [==============================] - 2s 23ms/step - loss: 1.2051\n",
            "Epoch 17/75\n",
            "60/60 [==============================] - 2s 23ms/step - loss: 1.1549\n",
            "Epoch 18/75\n",
            "60/60 [==============================] - 2s 25ms/step - loss: 1.1016\n",
            "Epoch 19/75\n",
            "60/60 [==============================] - 2s 23ms/step - loss: 1.0432\n",
            "Epoch 20/75\n",
            "60/60 [==============================] - 2s 23ms/step - loss: 0.9830\n",
            "Epoch 21/75\n",
            "60/60 [==============================] - 2s 23ms/step - loss: 0.9155\n",
            "Epoch 22/75\n",
            "60/60 [==============================] - 2s 23ms/step - loss: 0.8439\n",
            "Epoch 23/75\n",
            "60/60 [==============================] - 2s 24ms/step - loss: 0.7698\n",
            "Epoch 24/75\n",
            "60/60 [==============================] - 2s 26ms/step - loss: 0.6956\n",
            "Epoch 25/75\n",
            "60/60 [==============================] - 2s 23ms/step - loss: 0.6208\n",
            "Epoch 26/75\n",
            "60/60 [==============================] - 2s 25ms/step - loss: 0.5453\n",
            "Epoch 27/75\n",
            "60/60 [==============================] - 2s 23ms/step - loss: 0.4754\n",
            "Epoch 28/75\n",
            "60/60 [==============================] - 2s 23ms/step - loss: 0.4126\n",
            "Epoch 29/75\n",
            "60/60 [==============================] - 2s 25ms/step - loss: 0.3542\n",
            "Epoch 30/75\n",
            "60/60 [==============================] - 2s 23ms/step - loss: 0.3030\n",
            "Epoch 31/75\n",
            "60/60 [==============================] - 2s 24ms/step - loss: 0.2588\n",
            "Epoch 32/75\n",
            "60/60 [==============================] - 2s 24ms/step - loss: 0.2247\n",
            "Epoch 33/75\n",
            "60/60 [==============================] - 2s 24ms/step - loss: 0.1947\n",
            "Epoch 34/75\n",
            "60/60 [==============================] - 2s 24ms/step - loss: 0.1706\n",
            "Epoch 35/75\n",
            "60/60 [==============================] - 2s 25ms/step - loss: 0.1491\n",
            "Epoch 36/75\n",
            "60/60 [==============================] - 2s 25ms/step - loss: 0.1314\n",
            "Epoch 37/75\n",
            "60/60 [==============================] - 2s 22ms/step - loss: 0.1173\n",
            "Epoch 38/75\n",
            "60/60 [==============================] - 2s 26ms/step - loss: 0.1069\n",
            "Epoch 39/75\n",
            "60/60 [==============================] - 2s 23ms/step - loss: 0.0982\n",
            "Epoch 40/75\n",
            "60/60 [==============================] - 2s 24ms/step - loss: 0.0922\n",
            "Epoch 41/75\n",
            "60/60 [==============================] - 2s 24ms/step - loss: 0.0882\n",
            "Epoch 42/75\n",
            "60/60 [==============================] - 2s 25ms/step - loss: 0.0847\n",
            "Epoch 43/75\n",
            "60/60 [==============================] - 2s 27ms/step - loss: 0.0823\n",
            "Epoch 44/75\n",
            "60/60 [==============================] - 2s 24ms/step - loss: 0.0805\n",
            "Epoch 45/75\n",
            "60/60 [==============================] - 2s 24ms/step - loss: 0.0795\n",
            "Epoch 46/75\n",
            "60/60 [==============================] - 2s 24ms/step - loss: 0.0787\n",
            "Epoch 47/75\n",
            "60/60 [==============================] - 2s 25ms/step - loss: 0.0781\n",
            "Epoch 48/75\n",
            "60/60 [==============================] - 2s 23ms/step - loss: 0.0779\n",
            "Epoch 49/75\n",
            "60/60 [==============================] - 2s 23ms/step - loss: 0.0781\n",
            "Epoch 50/75\n",
            "60/60 [==============================] - 2s 24ms/step - loss: 0.0801\n",
            "Epoch 51/75\n",
            "60/60 [==============================] - 2s 24ms/step - loss: 0.0895\n",
            "Epoch 52/75\n",
            "60/60 [==============================] - 2s 23ms/step - loss: 0.2322\n",
            "Epoch 53/75\n",
            "60/60 [==============================] - 2s 25ms/step - loss: 0.7013\n",
            "Epoch 54/75\n",
            "60/60 [==============================] - 2s 23ms/step - loss: 0.5528\n",
            "Epoch 55/75\n",
            "60/60 [==============================] - 2s 24ms/step - loss: 0.3556\n",
            "Epoch 56/75\n",
            "60/60 [==============================] - 2s 25ms/step - loss: 0.2340\n",
            "Epoch 57/75\n",
            "60/60 [==============================] - 2s 23ms/step - loss: 0.1629\n",
            "Epoch 58/75\n",
            "60/60 [==============================] - 2s 24ms/step - loss: 0.1194\n",
            "Epoch 59/75\n",
            "60/60 [==============================] - 2s 25ms/step - loss: 0.0931\n",
            "Epoch 60/75\n",
            "60/60 [==============================] - 2s 26ms/step - loss: 0.0794\n",
            "Epoch 61/75\n",
            "60/60 [==============================] - 2s 23ms/step - loss: 0.0732\n",
            "Epoch 62/75\n",
            "60/60 [==============================] - 2s 25ms/step - loss: 0.0704\n",
            "Epoch 63/75\n",
            "60/60 [==============================] - 2s 23ms/step - loss: 0.0691\n",
            "Epoch 64/75\n",
            "60/60 [==============================] - 2s 25ms/step - loss: 0.0681\n",
            "Epoch 65/75\n",
            "60/60 [==============================] - 2s 24ms/step - loss: 0.0676\n",
            "Epoch 66/75\n",
            "60/60 [==============================] - 2s 25ms/step - loss: 0.0673\n",
            "Epoch 67/75\n",
            "60/60 [==============================] - 2s 24ms/step - loss: 0.0669\n",
            "Epoch 68/75\n",
            "60/60 [==============================] - 2s 24ms/step - loss: 0.0669\n",
            "Epoch 69/75\n",
            "60/60 [==============================] - 2s 24ms/step - loss: 0.0666\n",
            "Epoch 70/75\n",
            "60/60 [==============================] - 2s 23ms/step - loss: 0.0666\n",
            "Epoch 71/75\n",
            "60/60 [==============================] - 2s 26ms/step - loss: 0.0664\n",
            "Epoch 72/75\n",
            "60/60 [==============================] - 2s 24ms/step - loss: 0.0666\n",
            "Epoch 73/75\n",
            "60/60 [==============================] - 2s 25ms/step - loss: 0.0666\n",
            "Epoch 74/75\n",
            "60/60 [==============================] - 2s 24ms/step - loss: 0.0664\n",
            "Epoch 75/75\n",
            "60/60 [==============================] - 2s 24ms/step - loss: 0.0666\n"
          ]
        }
      ],
      "source": [
        "history = model.fit(dataset, epochs=EPOCHS, callbacks=[results])"
      ]
    },
    {
      "cell_type": "code",
      "execution_count": null,
      "metadata": {
        "id": "VndZinTK3Hku"
      },
      "outputs": [],
      "source": [
        "class Generate(Model):\n",
        "  def __init__(self, model, chars_from_ids, ids_from_chars, temperature=1.0):\n",
        "    super().__init__()\n",
        "    self.temperature = temperature\n",
        "    self.model = model\n",
        "    self.chars_from_ids = chars_from_ids\n",
        "    self.ids_from_chars = ids_from_chars\n",
        "    \n",
        "    #Remove unknown words\n",
        "    skip_ids = self.ids_from_chars(['[UNK]'])[:, None]\n",
        "    sparse_mask = tf.SparseTensor(values=[-float('inf')]*len(skip_ids),indices=skip_ids,dense_shape=[len(ids_from_chars.get_vocabulary())])\n",
        "    self.prediction_mask = tf.sparse.to_dense(sparse_mask)\n",
        "\n",
        "  #Prediction for two gate layer\n",
        "  def predict(self, inputs, states=None):\n",
        "    #Convert from chars to IDs\n",
        "    input_chars = tf.strings.unicode_split(inputs, 'UTF-8')\n",
        "    input_ids = self.ids_from_chars(input_chars).to_tensor()\n",
        "    #Get prediction\n",
        "    preds, states = self.model(inputs=input_ids, states=states,return_state=True)\n",
        "    preds = preds[:, -1, :]\n",
        "    preds = preds/self.temperature\n",
        "    preds = preds + self.prediction_mask\n",
        "    #Convert back from IDs to chars after generation\n",
        "    preds_ids = tf.random.categorical(preds, num_samples=1)\n",
        "    preds_ids = tf.squeeze(preds_ids, axis=-1)\n",
        "    predicted_chars = self.chars_from_ids(preds_ids)\n",
        "\n",
        "    return predicted_chars, states"
      ]
    },
    {
      "cell_type": "code",
      "execution_count": null,
      "metadata": {
        "colab": {
          "base_uri": "https://localhost:8080/"
        },
        "id": "aCzaqNFq3Hkv",
        "outputId": "8b902351-446d-4d29-9fc5-c981c50fcfeb"
      },
      "outputs": [
        {
          "name": "stdout",
          "output_type": "stream",
          "text": [
            "COUNTESS\n",
            "To be young again, if we could: I will be a fool\n",
            "Which he fains my thoughts Indeed.\n",
            "LEONTES\n",
            "How! daughter!\n",
            "ORLANDO\n",
            "And so am I for Rosalind.\n",
            "ROSALIND\n",
            "And I for no woman.\n",
            "SILVIUS\n",
            "It is to be all made of faith and service;\n",
            "And therefore look you call me Ganymede.\n",
            "But my free upon your virgin, she had with mess\n",
            "pirchuse to his majesty. Even died to be too little a bastard.\n",
            "POLIXENES\n",
            "Pray now, come, sir, we see\n",
            "Cold wish'd of her honesty: and, alas,\n",
            "The spark so much in bring on the hedge of two daughter\n",
            "To her allow of the square, under thou think,\n",
            "That fools should be so deep-contemplative,\n",
            "And I did laugh sans intermission\n",
            "An hour by his dialage, but I do see't\n",
            "Not becomes it: she's\n",
            "entertainment: you are too young, to say I live:\n",
            "In once or this that I have forgiven alo, To say it is\n",
            "no thought of his charic, but so cut a ladys like to\n",
            "our woman. Therefore, young lord\n",
            "When you push away thy lands and all things that thou to\n",
            "ckild her forth size understand but that I\n",
            "may beg; four poun \n",
            "\n",
            "________________________________________________________________________________\n"
          ]
        }
      ],
      "source": [
        "Generator = Generate(model, chars_from_ids, ids_from_chars)\n",
        "states = None\n",
        "seed = tf.constant(['COUNTESS'])\n",
        "result = [seed]\n",
        "\n",
        "for n in range(1000):\n",
        "  seed, states = Generator.predict(seed, states=states)\n",
        "  result.append(seed)\n",
        "\n",
        "result = tf.strings.join(result)\n",
        "print(result[0].numpy().decode('utf-8'), '\\n\\n' + '_'*80)"
      ]
    }
  ],
  "metadata": {
    "accelerator": "GPU",
    "colab": {
      "provenance": [],
      "include_colab_link": true
    },
    "gpuClass": "standard",
    "kernelspec": {
      "display_name": "Python 3.10.4 64-bit",
      "language": "python",
      "name": "python3"
    },
    "language_info": {
      "codemirror_mode": {
        "name": "ipython",
        "version": 3
      },
      "file_extension": ".py",
      "mimetype": "text/x-python",
      "name": "python",
      "nbconvert_exporter": "python",
      "pygments_lexer": "ipython3",
      "version": "3.10.4"
    },
    "vscode": {
      "interpreter": {
        "hash": "866cd1245b3823e185398c1063f44bf9b1cf162f43ea0435a9319e64a7104072"
      }
    }
  },
  "nbformat": 4,
  "nbformat_minor": 0
}